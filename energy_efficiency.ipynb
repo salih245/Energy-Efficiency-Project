{
 "cells": [
  {
   "cell_type": "code",
   "execution_count": 1,
   "id": "c8e844af",
   "metadata": {},
   "outputs": [],
   "source": [
    "import numpy as np\n",
    "import matplotlib.pyplot as plt\n",
    "import pandas as pd\n",
    "import missingno as msno\n",
    "from scipy import stats\n",
    "import statsmodels.api as sm\n",
    "import seaborn as sns\n",
    "from sklearn.decomposition import PCA\n",
    "from sklearn.preprocessing import StandardScaler\n",
    "from sklearn.model_selection import train_test_split\n",
    "from sklearn.metrics import accuracy_score, precision_score, recall_score, confusion_matrix, plot_confusion_matrix ,matthews_corrcoef\n",
    "from sklearn.linear_model import LogisticRegression\n",
    "from matplotlib.pyplot import figure, show\n",
    "from matplotlib.ticker import MaxNLocator\n",
    "from sklearn.feature_selection import mutual_info_regression\n",
    "from sklearn.linear_model import LinearRegression\n",
    "from sklearn import linear_model\n",
    "from sklearn import metrics\n",
    "from sklearn.model_selection import train_test_split, GridSearchCV\n",
    "from sklearn.metrics import mean_squared_error, r2_score, accuracy_score\n",
    "import matplotlib.pyplot as plt\n",
    "from sklearn.ensemble import RandomForestRegressor"
   ]
  },
  {
   "cell_type": "code",
   "execution_count": 2,
   "id": "39a9ab64",
   "metadata": {},
   "outputs": [],
   "source": [
    "data = pd.read_csv(\"ENB2012_data.csv\")"
   ]
  },
  {
   "cell_type": "code",
   "execution_count": 3,
   "id": "8a44ae92",
   "metadata": {},
   "outputs": [],
   "source": [
    "data.columns=[\"relative_compactness\",\"surface_area\",\"wall_area\",\"roof_area\",\"overall_height\",\"orientation\",\n",
    "                   \"glazing_area\",\"glazing_area_dist\",\"heating_load\",\"cooling_load\"]"
   ]
  },
  {
   "cell_type": "code",
   "execution_count": 4,
   "id": "1b4e23d0",
   "metadata": {},
   "outputs": [
    {
     "data": {
      "text/plain": [
       "0.40    240\n",
       "0.10    240\n",
       "0.25    240\n",
       "0.00     48\n",
       "Name: glazing_area, dtype: int64"
      ]
     },
     "execution_count": 4,
     "metadata": {},
     "output_type": "execute_result"
    }
   ],
   "source": [
    "data['glazing_area'].value_counts()"
   ]
  },
  {
   "cell_type": "code",
   "execution_count": 5,
   "id": "bede62a6",
   "metadata": {},
   "outputs": [
    {
     "data": {
      "text/html": [
       "<div>\n",
       "<style scoped>\n",
       "    .dataframe tbody tr th:only-of-type {\n",
       "        vertical-align: middle;\n",
       "    }\n",
       "\n",
       "    .dataframe tbody tr th {\n",
       "        vertical-align: top;\n",
       "    }\n",
       "\n",
       "    .dataframe thead th {\n",
       "        text-align: right;\n",
       "    }\n",
       "</style>\n",
       "<table border=\"1\" class=\"dataframe\">\n",
       "  <thead>\n",
       "    <tr style=\"text-align: right;\">\n",
       "      <th></th>\n",
       "      <th>relative_compactness</th>\n",
       "      <th>surface_area</th>\n",
       "      <th>wall_area</th>\n",
       "      <th>roof_area</th>\n",
       "      <th>overall_height</th>\n",
       "      <th>orientation</th>\n",
       "      <th>glazing_area</th>\n",
       "      <th>glazing_area_dist</th>\n",
       "      <th>heating_load</th>\n",
       "      <th>cooling_load</th>\n",
       "    </tr>\n",
       "  </thead>\n",
       "  <tbody>\n",
       "    <tr>\n",
       "      <th>relative_compactness</th>\n",
       "      <td>1.000000e+00</td>\n",
       "      <td>-9.919015e-01</td>\n",
       "      <td>-2.037817e-01</td>\n",
       "      <td>-8.688234e-01</td>\n",
       "      <td>8.277473e-01</td>\n",
       "      <td>4.678592e-17</td>\n",
       "      <td>-2.960552e-15</td>\n",
       "      <td>-7.107006e-16</td>\n",
       "      <td>0.622272</td>\n",
       "      <td>0.634339</td>\n",
       "    </tr>\n",
       "    <tr>\n",
       "      <th>surface_area</th>\n",
       "      <td>-9.919015e-01</td>\n",
       "      <td>1.000000e+00</td>\n",
       "      <td>1.955016e-01</td>\n",
       "      <td>8.807195e-01</td>\n",
       "      <td>-8.581477e-01</td>\n",
       "      <td>-3.459372e-17</td>\n",
       "      <td>3.636925e-15</td>\n",
       "      <td>2.438409e-15</td>\n",
       "      <td>-0.658120</td>\n",
       "      <td>-0.672999</td>\n",
       "    </tr>\n",
       "    <tr>\n",
       "      <th>wall_area</th>\n",
       "      <td>-2.037817e-01</td>\n",
       "      <td>1.955016e-01</td>\n",
       "      <td>1.000000e+00</td>\n",
       "      <td>-2.923165e-01</td>\n",
       "      <td>2.809757e-01</td>\n",
       "      <td>-2.429499e-17</td>\n",
       "      <td>-8.567455e-17</td>\n",
       "      <td>2.067384e-16</td>\n",
       "      <td>0.455671</td>\n",
       "      <td>0.427117</td>\n",
       "    </tr>\n",
       "    <tr>\n",
       "      <th>roof_area</th>\n",
       "      <td>-8.688234e-01</td>\n",
       "      <td>8.807195e-01</td>\n",
       "      <td>-2.923165e-01</td>\n",
       "      <td>1.000000e+00</td>\n",
       "      <td>-9.725122e-01</td>\n",
       "      <td>-5.830058e-17</td>\n",
       "      <td>-1.759011e-15</td>\n",
       "      <td>-1.078071e-15</td>\n",
       "      <td>-0.861828</td>\n",
       "      <td>-0.862547</td>\n",
       "    </tr>\n",
       "    <tr>\n",
       "      <th>overall_height</th>\n",
       "      <td>8.277473e-01</td>\n",
       "      <td>-8.581477e-01</td>\n",
       "      <td>2.809757e-01</td>\n",
       "      <td>-9.725122e-01</td>\n",
       "      <td>1.000000e+00</td>\n",
       "      <td>4.492205e-17</td>\n",
       "      <td>1.489134e-17</td>\n",
       "      <td>-2.920613e-17</td>\n",
       "      <td>0.889431</td>\n",
       "      <td>0.895785</td>\n",
       "    </tr>\n",
       "    <tr>\n",
       "      <th>orientation</th>\n",
       "      <td>4.678592e-17</td>\n",
       "      <td>-3.459372e-17</td>\n",
       "      <td>-2.429499e-17</td>\n",
       "      <td>-5.830058e-17</td>\n",
       "      <td>4.492205e-17</td>\n",
       "      <td>1.000000e+00</td>\n",
       "      <td>-9.406007e-16</td>\n",
       "      <td>-2.549352e-16</td>\n",
       "      <td>-0.002587</td>\n",
       "      <td>0.014290</td>\n",
       "    </tr>\n",
       "    <tr>\n",
       "      <th>glazing_area</th>\n",
       "      <td>-2.960552e-15</td>\n",
       "      <td>3.636925e-15</td>\n",
       "      <td>-8.567455e-17</td>\n",
       "      <td>-1.759011e-15</td>\n",
       "      <td>1.489134e-17</td>\n",
       "      <td>-9.406007e-16</td>\n",
       "      <td>1.000000e+00</td>\n",
       "      <td>2.129642e-01</td>\n",
       "      <td>0.269841</td>\n",
       "      <td>0.207505</td>\n",
       "    </tr>\n",
       "    <tr>\n",
       "      <th>glazing_area_dist</th>\n",
       "      <td>-7.107006e-16</td>\n",
       "      <td>2.438409e-15</td>\n",
       "      <td>2.067384e-16</td>\n",
       "      <td>-1.078071e-15</td>\n",
       "      <td>-2.920613e-17</td>\n",
       "      <td>-2.549352e-16</td>\n",
       "      <td>2.129642e-01</td>\n",
       "      <td>1.000000e+00</td>\n",
       "      <td>0.087368</td>\n",
       "      <td>0.050525</td>\n",
       "    </tr>\n",
       "    <tr>\n",
       "      <th>heating_load</th>\n",
       "      <td>6.222722e-01</td>\n",
       "      <td>-6.581202e-01</td>\n",
       "      <td>4.556712e-01</td>\n",
       "      <td>-8.618283e-01</td>\n",
       "      <td>8.894307e-01</td>\n",
       "      <td>-2.586534e-03</td>\n",
       "      <td>2.698410e-01</td>\n",
       "      <td>8.736759e-02</td>\n",
       "      <td>1.000000</td>\n",
       "      <td>0.975862</td>\n",
       "    </tr>\n",
       "    <tr>\n",
       "      <th>cooling_load</th>\n",
       "      <td>6.343391e-01</td>\n",
       "      <td>-6.729989e-01</td>\n",
       "      <td>4.271170e-01</td>\n",
       "      <td>-8.625466e-01</td>\n",
       "      <td>8.957852e-01</td>\n",
       "      <td>1.428960e-02</td>\n",
       "      <td>2.075050e-01</td>\n",
       "      <td>5.052512e-02</td>\n",
       "      <td>0.975862</td>\n",
       "      <td>1.000000</td>\n",
       "    </tr>\n",
       "  </tbody>\n",
       "</table>\n",
       "</div>"
      ],
      "text/plain": [
       "                      relative_compactness  surface_area     wall_area  \\\n",
       "relative_compactness          1.000000e+00 -9.919015e-01 -2.037817e-01   \n",
       "surface_area                 -9.919015e-01  1.000000e+00  1.955016e-01   \n",
       "wall_area                    -2.037817e-01  1.955016e-01  1.000000e+00   \n",
       "roof_area                    -8.688234e-01  8.807195e-01 -2.923165e-01   \n",
       "overall_height                8.277473e-01 -8.581477e-01  2.809757e-01   \n",
       "orientation                   4.678592e-17 -3.459372e-17 -2.429499e-17   \n",
       "glazing_area                 -2.960552e-15  3.636925e-15 -8.567455e-17   \n",
       "glazing_area_dist            -7.107006e-16  2.438409e-15  2.067384e-16   \n",
       "heating_load                  6.222722e-01 -6.581202e-01  4.556712e-01   \n",
       "cooling_load                  6.343391e-01 -6.729989e-01  4.271170e-01   \n",
       "\n",
       "                         roof_area  overall_height   orientation  \\\n",
       "relative_compactness -8.688234e-01    8.277473e-01  4.678592e-17   \n",
       "surface_area          8.807195e-01   -8.581477e-01 -3.459372e-17   \n",
       "wall_area            -2.923165e-01    2.809757e-01 -2.429499e-17   \n",
       "roof_area             1.000000e+00   -9.725122e-01 -5.830058e-17   \n",
       "overall_height       -9.725122e-01    1.000000e+00  4.492205e-17   \n",
       "orientation          -5.830058e-17    4.492205e-17  1.000000e+00   \n",
       "glazing_area         -1.759011e-15    1.489134e-17 -9.406007e-16   \n",
       "glazing_area_dist    -1.078071e-15   -2.920613e-17 -2.549352e-16   \n",
       "heating_load         -8.618283e-01    8.894307e-01 -2.586534e-03   \n",
       "cooling_load         -8.625466e-01    8.957852e-01  1.428960e-02   \n",
       "\n",
       "                      glazing_area  glazing_area_dist  heating_load  \\\n",
       "relative_compactness -2.960552e-15      -7.107006e-16      0.622272   \n",
       "surface_area          3.636925e-15       2.438409e-15     -0.658120   \n",
       "wall_area            -8.567455e-17       2.067384e-16      0.455671   \n",
       "roof_area            -1.759011e-15      -1.078071e-15     -0.861828   \n",
       "overall_height        1.489134e-17      -2.920613e-17      0.889431   \n",
       "orientation          -9.406007e-16      -2.549352e-16     -0.002587   \n",
       "glazing_area          1.000000e+00       2.129642e-01      0.269841   \n",
       "glazing_area_dist     2.129642e-01       1.000000e+00      0.087368   \n",
       "heating_load          2.698410e-01       8.736759e-02      1.000000   \n",
       "cooling_load          2.075050e-01       5.052512e-02      0.975862   \n",
       "\n",
       "                      cooling_load  \n",
       "relative_compactness      0.634339  \n",
       "surface_area             -0.672999  \n",
       "wall_area                 0.427117  \n",
       "roof_area                -0.862547  \n",
       "overall_height            0.895785  \n",
       "orientation               0.014290  \n",
       "glazing_area              0.207505  \n",
       "glazing_area_dist         0.050525  \n",
       "heating_load              0.975862  \n",
       "cooling_load              1.000000  "
      ]
     },
     "execution_count": 5,
     "metadata": {},
     "output_type": "execute_result"
    }
   ],
   "source": [
    "data.corr()"
   ]
  },
  {
   "cell_type": "code",
   "execution_count": 6,
   "id": "628de988",
   "metadata": {},
   "outputs": [
    {
     "data": {
      "text/plain": [
       "<AxesSubplot:>"
      ]
     },
     "execution_count": 6,
     "metadata": {},
     "output_type": "execute_result"
    },
    {
     "data": {
      "image/png": "[encoded data removed]",
      "text/plain": [
       "<Figure size 720x432 with 2 Axes>"
      ]
     },
     "metadata": {
      "needs_background": "light"
     },
     "output_type": "display_data"
    }
   ],
   "source": [
    "fig, ax = plt.subplots(figsize=(10,6))\n",
    "sns.heatmap(data.corr(), cmap ='rocket', linewidths = 0.30, annot = True)"
   ]
  },
  {
   "cell_type": "code",
   "execution_count": 7,
   "id": "1af5135e",
   "metadata": {},
   "outputs": [],
   "source": [
    "X = data.drop(columns=['heating_load','cooling_load'])\n",
    "y1 = data['heating_load'].values\n",
    "y2 = data['cooling_load'].values"
   ]
  },
  {
   "cell_type": "code",
   "execution_count": 8,
   "id": "0769964f",
   "metadata": {},
   "outputs": [
    {
     "data": {
      "text/plain": [
       "0    1.721351\n",
       "1    1.719406\n",
       "2    1.111829\n",
       "3    0.942230\n",
       "6    0.708658\n",
       "4    0.663589\n",
       "7    0.216549\n",
       "5    0.000000\n",
       "Name: MI Scores, dtype: float64"
      ]
     },
     "execution_count": 8,
     "metadata": {},
     "output_type": "execute_result"
    }
   ],
   "source": [
    "mi_scores1 = mutual_info_regression(X, y1, discrete_features= [2,4])\n",
    "mi_scores1 = pd.Series(mi_scores1, name=\"MI Scores\")\n",
    "mi_scores1 = mi_scores1.sort_values(ascending=False)\n",
    "mi_scores1"
   ]
  },
  {
   "cell_type": "code",
   "execution_count": 9,
   "id": "99e6a2fd",
   "metadata": {},
   "outputs": [
    {
     "data": {
      "image/png": "[encoded data removed]",
      "text/plain": [
       "<Figure size 600x300 with 1 Axes>"
      ]
     },
     "metadata": {
      "needs_background": "light"
     },
     "output_type": "display_data"
    }
   ],
   "source": [
    "# Mutual information regression for heating load\n",
    "col_names1 = reversed(X.columns[mi_scores1.index])\n",
    "def plot_mi_scores(scores):\n",
    "    scores = scores.sort_values(ascending=True)\n",
    "    width = np.arange(len(scores))\n",
    "    ticks = col_names1\n",
    "    plt.barh(width, scores)\n",
    "    plt.yticks(width, ticks)\n",
    "    plt.title(\"Mutual Information Scores\")\n",
    "plt.figure(dpi=100, figsize=(6, 3))\n",
    "plot_mi_scores(mi_scores1)"
   ]
  },
  {
   "cell_type": "code",
   "execution_count": 10,
   "id": "03a5364b",
   "metadata": {},
   "outputs": [
    {
     "data": {
      "text/plain": [
       "1    1.418722\n",
       "0    1.412829\n",
       "3    0.881164\n",
       "2    0.863303\n",
       "6    0.727064\n",
       "4    0.680932\n",
       "7    0.145957\n",
       "5    0.000000\n",
       "Name: MI Scores, dtype: float64"
      ]
     },
     "execution_count": 10,
     "metadata": {},
     "output_type": "execute_result"
    }
   ],
   "source": [
    "mi_scores2 = mutual_info_regression(X, y2, discrete_features= [5,7])\n",
    "mi_scores2 = pd.Series(mi_scores2, name=\"MI Scores\")\n",
    "mi_scores2 = mi_scores2.sort_values(ascending=False)\n",
    "mi_scores2"
   ]
  },
  {
   "cell_type": "code",
   "execution_count": 11,
   "id": "aa430dd8",
   "metadata": {},
   "outputs": [
    {
     "data": {
      "image/png": "[encoded data removed]",
      "text/plain": [
       "<Figure size 600x300 with 1 Axes>"
      ]
     },
     "metadata": {
      "needs_background": "light"
     },
     "output_type": "display_data"
    }
   ],
   "source": [
    "# Mutual information regression for cooling load\n",
    "col_names2 = reversed(X.columns[mi_scores2.index])\n",
    "def plot_mi_scores(scores):\n",
    "    scores = scores.sort_values(ascending=True)\n",
    "    width = np.arange(len(scores))\n",
    "    ticks = col_names2\n",
    "    plt.barh(width, scores)\n",
    "    plt.yticks(width, ticks)\n",
    "    plt.title(\"Mutual Information Scores\")\n",
    "plt.figure(dpi=100, figsize=(6, 3))\n",
    "plot_mi_scores(mi_scores2)"
   ]
  },
  {
   "cell_type": "code",
   "execution_count": 12,
   "id": "801a6106",
   "metadata": {},
   "outputs": [],
   "source": [
    "# Scaling for heating load (discrete variables are not scaled)\n",
    "pca_data = data.copy()\n",
    "X_train_pca_data, X_test_pca_data, y_train_pca_data, y_test_pca_data = train_test_split(pca_data.drop(columns=['heating_load','cooling_load']), pca_data['heating_load'], test_size=0.3, random_state=15)\n",
    "cont_scale_X_train_pca_data = X_train_pca_data.drop(columns=[\"orientation\",\"glazing_area_dist\"])\n",
    "scaler = StandardScaler()\n",
    "scaled_cont_X_train_pca_data = scaler.fit_transform(cont_scale_X_train_pca_data)\n",
    "cont_scale_X_test_pca_data = X_test_pca_data.drop(columns=[\"orientation\",\"glazing_area_dist\"])\n",
    "scaled_cont_X_test_pca_data = scaler.transform(cont_scale_X_test_pca_data)\n",
    "X_test_pca_data_no_cont = X_test_pca_data[[\"orientation\",\"glazing_area_dist\"]]\n",
    "X_test_pca_data_scaled = pd.concat([X_test_pca_data_no_cont, pd.DataFrame(scaled_cont_X_test_pca_data, columns = ['relative_compactness', 'surface_area', 'wall_area', 'roof_area', 'overall_height', 'glazing_area'], index=X_test_pca_data_no_cont.index)], axis=1)\n",
    "X_train_pca_data_no_cont = X_train_pca_data[[\"orientation\",\"glazing_area_dist\"]]\n",
    "X_train_pca_data_scaled = pd.concat([X_train_pca_data_no_cont, pd.DataFrame(scaled_cont_X_train_pca_data, columns = ['relative_compactness', 'surface_area', 'wall_area', 'roof_area', 'overall_height', 'glazing_area'], index=X_train_pca_data_no_cont.index )], axis=1)"
   ]
  },
  {
   "cell_type": "code",
   "execution_count": 13,
   "id": "35edc423",
   "metadata": {},
   "outputs": [
    {
     "data": {
      "text/html": [
       "<div>\n",
       "<style scoped>\n",
       "    .dataframe tbody tr th:only-of-type {\n",
       "        vertical-align: middle;\n",
       "    }\n",
       "\n",
       "    .dataframe tbody tr th {\n",
       "        vertical-align: top;\n",
       "    }\n",
       "\n",
       "    .dataframe thead th {\n",
       "        text-align: right;\n",
       "    }\n",
       "</style>\n",
       "<table border=\"1\" class=\"dataframe\">\n",
       "  <thead>\n",
       "    <tr style=\"text-align: right;\">\n",
       "      <th></th>\n",
       "      <th>relative_compactness</th>\n",
       "      <th>surface_area</th>\n",
       "      <th>wall_area</th>\n",
       "      <th>roof_area</th>\n",
       "      <th>overall_height</th>\n",
       "      <th>glazing_area</th>\n",
       "    </tr>\n",
       "  </thead>\n",
       "  <tbody>\n",
       "    <tr>\n",
       "      <th>343</th>\n",
       "      <td>0.90</td>\n",
       "      <td>563.5</td>\n",
       "      <td>318.5</td>\n",
       "      <td>122.5</td>\n",
       "      <td>7.0</td>\n",
       "      <td>0.25</td>\n",
       "    </tr>\n",
       "    <tr>\n",
       "      <th>728</th>\n",
       "      <td>0.86</td>\n",
       "      <td>588.0</td>\n",
       "      <td>294.0</td>\n",
       "      <td>147.0</td>\n",
       "      <td>7.0</td>\n",
       "      <td>0.40</td>\n",
       "    </tr>\n",
       "    <tr>\n",
       "      <th>73</th>\n",
       "      <td>0.74</td>\n",
       "      <td>686.0</td>\n",
       "      <td>245.0</td>\n",
       "      <td>220.5</td>\n",
       "      <td>3.5</td>\n",
       "      <td>0.10</td>\n",
       "    </tr>\n",
       "    <tr>\n",
       "      <th>254</th>\n",
       "      <td>0.82</td>\n",
       "      <td>612.5</td>\n",
       "      <td>318.5</td>\n",
       "      <td>147.0</td>\n",
       "      <td>7.0</td>\n",
       "      <td>0.10</td>\n",
       "    </tr>\n",
       "    <tr>\n",
       "      <th>741</th>\n",
       "      <td>0.76</td>\n",
       "      <td>661.5</td>\n",
       "      <td>416.5</td>\n",
       "      <td>122.5</td>\n",
       "      <td>7.0</td>\n",
       "      <td>0.40</td>\n",
       "    </tr>\n",
       "    <tr>\n",
       "      <th>...</th>\n",
       "      <td>...</td>\n",
       "      <td>...</td>\n",
       "      <td>...</td>\n",
       "      <td>...</td>\n",
       "      <td>...</td>\n",
       "      <td>...</td>\n",
       "    </tr>\n",
       "    <tr>\n",
       "      <th>589</th>\n",
       "      <td>0.82</td>\n",
       "      <td>612.5</td>\n",
       "      <td>318.5</td>\n",
       "      <td>147.0</td>\n",
       "      <td>7.0</td>\n",
       "      <td>0.40</td>\n",
       "    </tr>\n",
       "    <tr>\n",
       "      <th>661</th>\n",
       "      <td>0.66</td>\n",
       "      <td>759.5</td>\n",
       "      <td>318.5</td>\n",
       "      <td>220.5</td>\n",
       "      <td>3.5</td>\n",
       "      <td>0.40</td>\n",
       "    </tr>\n",
       "    <tr>\n",
       "      <th>265</th>\n",
       "      <td>0.74</td>\n",
       "      <td>686.0</td>\n",
       "      <td>245.0</td>\n",
       "      <td>220.5</td>\n",
       "      <td>3.5</td>\n",
       "      <td>0.10</td>\n",
       "    </tr>\n",
       "    <tr>\n",
       "      <th>247</th>\n",
       "      <td>0.90</td>\n",
       "      <td>563.5</td>\n",
       "      <td>318.5</td>\n",
       "      <td>122.5</td>\n",
       "      <td>7.0</td>\n",
       "      <td>0.10</td>\n",
       "    </tr>\n",
       "    <tr>\n",
       "      <th>514</th>\n",
       "      <td>0.69</td>\n",
       "      <td>735.0</td>\n",
       "      <td>294.0</td>\n",
       "      <td>220.5</td>\n",
       "      <td>3.5</td>\n",
       "      <td>0.25</td>\n",
       "    </tr>\n",
       "  </tbody>\n",
       "</table>\n",
       "<p>231 rows × 6 columns</p>\n",
       "</div>"
      ],
      "text/plain": [
       "     relative_compactness  surface_area  wall_area  roof_area  overall_height  \\\n",
       "343                  0.90         563.5      318.5      122.5             7.0   \n",
       "728                  0.86         588.0      294.0      147.0             7.0   \n",
       "73                   0.74         686.0      245.0      220.5             3.5   \n",
       "254                  0.82         612.5      318.5      147.0             7.0   \n",
       "741                  0.76         661.5      416.5      122.5             7.0   \n",
       "..                    ...           ...        ...        ...             ...   \n",
       "589                  0.82         612.5      318.5      147.0             7.0   \n",
       "661                  0.66         759.5      318.5      220.5             3.5   \n",
       "265                  0.74         686.0      245.0      220.5             3.5   \n",
       "247                  0.90         563.5      318.5      122.5             7.0   \n",
       "514                  0.69         735.0      294.0      220.5             3.5   \n",
       "\n",
       "     glazing_area  \n",
       "343          0.25  \n",
       "728          0.40  \n",
       "73           0.10  \n",
       "254          0.10  \n",
       "741          0.40  \n",
       "..            ...  \n",
       "589          0.40  \n",
       "661          0.40  \n",
       "265          0.10  \n",
       "247          0.10  \n",
       "514          0.25  \n",
       "\n",
       "[231 rows x 6 columns]"
      ]
     },
     "execution_count": 13,
     "metadata": {},
     "output_type": "execute_result"
    }
   ],
   "source": [
    "cont_scale_X_test_pca_data"
   ]
  },
  {
   "cell_type": "code",
   "execution_count": 14,
   "id": "83d6885c",
   "metadata": {
    "scrolled": true
   },
   "outputs": [
    {
     "data": {
      "text/html": [
       "<div>\n",
       "<style scoped>\n",
       "    .dataframe tbody tr th:only-of-type {\n",
       "        vertical-align: middle;\n",
       "    }\n",
       "\n",
       "    .dataframe tbody tr th {\n",
       "        vertical-align: top;\n",
       "    }\n",
       "\n",
       "    .dataframe thead th {\n",
       "        text-align: right;\n",
       "    }\n",
       "</style>\n",
       "<table border=\"1\" class=\"dataframe\">\n",
       "  <thead>\n",
       "    <tr style=\"text-align: right;\">\n",
       "      <th></th>\n",
       "      <th>orientation</th>\n",
       "      <th>glazing_area_dist</th>\n",
       "      <th>relative_compactness</th>\n",
       "      <th>surface_area</th>\n",
       "      <th>wall_area</th>\n",
       "      <th>roof_area</th>\n",
       "      <th>overall_height</th>\n",
       "      <th>glazing_area</th>\n",
       "    </tr>\n",
       "  </thead>\n",
       "  <tbody>\n",
       "    <tr>\n",
       "      <th>521</th>\n",
       "      <td>3</td>\n",
       "      <td>5</td>\n",
       "      <td>-1.160806</td>\n",
       "      <td>1.258556</td>\n",
       "      <td>0.551563</td>\n",
       "      <td>0.967453</td>\n",
       "      <td>-0.994429</td>\n",
       "      <td>0.181705</td>\n",
       "    </tr>\n",
       "    <tr>\n",
       "      <th>546</th>\n",
       "      <td>4</td>\n",
       "      <td>1</td>\n",
       "      <td>0.238729</td>\n",
       "      <td>-0.391187</td>\n",
       "      <td>0.551563</td>\n",
       "      <td>-0.650156</td>\n",
       "      <td>1.005602</td>\n",
       "      <td>1.303262</td>\n",
       "    </tr>\n",
       "    <tr>\n",
       "      <th>493</th>\n",
       "      <td>3</td>\n",
       "      <td>5</td>\n",
       "      <td>0.518636</td>\n",
       "      <td>-0.666144</td>\n",
       "      <td>-0.006232</td>\n",
       "      <td>-0.650156</td>\n",
       "      <td>1.005602</td>\n",
       "      <td>0.181705</td>\n",
       "    </tr>\n",
       "    <tr>\n",
       "      <th>75</th>\n",
       "      <td>5</td>\n",
       "      <td>1</td>\n",
       "      <td>-0.227783</td>\n",
       "      <td>0.158728</td>\n",
       "      <td>-1.679620</td>\n",
       "      <td>0.967453</td>\n",
       "      <td>-0.994429</td>\n",
       "      <td>-0.939853</td>\n",
       "    </tr>\n",
       "    <tr>\n",
       "      <th>270</th>\n",
       "      <td>4</td>\n",
       "      <td>5</td>\n",
       "      <td>-0.507690</td>\n",
       "      <td>0.433685</td>\n",
       "      <td>-1.121824</td>\n",
       "      <td>0.967453</td>\n",
       "      <td>-0.994429</td>\n",
       "      <td>-0.939853</td>\n",
       "    </tr>\n",
       "    <tr>\n",
       "      <th>...</th>\n",
       "      <td>...</td>\n",
       "      <td>...</td>\n",
       "      <td>...</td>\n",
       "      <td>...</td>\n",
       "      <td>...</td>\n",
       "      <td>...</td>\n",
       "      <td>...</td>\n",
       "      <td>...</td>\n",
       "    </tr>\n",
       "    <tr>\n",
       "      <th>156</th>\n",
       "      <td>2</td>\n",
       "      <td>3</td>\n",
       "      <td>0.518636</td>\n",
       "      <td>-0.666144</td>\n",
       "      <td>-0.006232</td>\n",
       "      <td>-0.650156</td>\n",
       "      <td>1.005602</td>\n",
       "      <td>-0.939853</td>\n",
       "    </tr>\n",
       "    <tr>\n",
       "      <th>384</th>\n",
       "      <td>2</td>\n",
       "      <td>3</td>\n",
       "      <td>2.011473</td>\n",
       "      <td>-1.765972</td>\n",
       "      <td>-0.564028</td>\n",
       "      <td>-1.458961</td>\n",
       "      <td>1.005602</td>\n",
       "      <td>0.181705</td>\n",
       "    </tr>\n",
       "    <tr>\n",
       "      <th>645</th>\n",
       "      <td>3</td>\n",
       "      <td>3</td>\n",
       "      <td>-0.041178</td>\n",
       "      <td>-0.116230</td>\n",
       "      <td>2.224951</td>\n",
       "      <td>-1.189359</td>\n",
       "      <td>1.005602</td>\n",
       "      <td>1.303262</td>\n",
       "    </tr>\n",
       "    <tr>\n",
       "      <th>757</th>\n",
       "      <td>3</td>\n",
       "      <td>5</td>\n",
       "      <td>-0.974201</td>\n",
       "      <td>0.983599</td>\n",
       "      <td>-0.006232</td>\n",
       "      <td>0.967453</td>\n",
       "      <td>-0.994429</td>\n",
       "      <td>1.303262</td>\n",
       "    </tr>\n",
       "    <tr>\n",
       "      <th>456</th>\n",
       "      <td>2</td>\n",
       "      <td>4</td>\n",
       "      <td>-0.227783</td>\n",
       "      <td>0.158728</td>\n",
       "      <td>-1.679620</td>\n",
       "      <td>0.967453</td>\n",
       "      <td>-0.994429</td>\n",
       "      <td>0.181705</td>\n",
       "    </tr>\n",
       "  </tbody>\n",
       "</table>\n",
       "<p>537 rows × 8 columns</p>\n",
       "</div>"
      ],
      "text/plain": [
       "     orientation  glazing_area_dist  relative_compactness  surface_area  \\\n",
       "521            3                  5             -1.160806      1.258556   \n",
       "546            4                  1              0.238729     -0.391187   \n",
       "493            3                  5              0.518636     -0.666144   \n",
       "75             5                  1             -0.227783      0.158728   \n",
       "270            4                  5             -0.507690      0.433685   \n",
       "..           ...                ...                   ...           ...   \n",
       "156            2                  3              0.518636     -0.666144   \n",
       "384            2                  3              2.011473     -1.765972   \n",
       "645            3                  3             -0.041178     -0.116230   \n",
       "757            3                  5             -0.974201      0.983599   \n",
       "456            2                  4             -0.227783      0.158728   \n",
       "\n",
       "     wall_area  roof_area  overall_height  glazing_area  \n",
       "521   0.551563   0.967453       -0.994429      0.181705  \n",
       "546   0.551563  -0.650156        1.005602      1.303262  \n",
       "493  -0.006232  -0.650156        1.005602      0.181705  \n",
       "75   -1.679620   0.967453       -0.994429     -0.939853  \n",
       "270  -1.121824   0.967453       -0.994429     -0.939853  \n",
       "..         ...        ...             ...           ...  \n",
       "156  -0.006232  -0.650156        1.005602     -0.939853  \n",
       "384  -0.564028  -1.458961        1.005602      0.181705  \n",
       "645   2.224951  -1.189359        1.005602      1.303262  \n",
       "757  -0.006232   0.967453       -0.994429      1.303262  \n",
       "456  -1.679620   0.967453       -0.994429      0.181705  \n",
       "\n",
       "[537 rows x 8 columns]"
      ]
     },
     "execution_count": 14,
     "metadata": {},
     "output_type": "execute_result"
    }
   ],
   "source": [
    "X_train_pca_data_scaled"
   ]
  },
  {
   "cell_type": "code",
   "execution_count": 15,
   "id": "f9f12ebc",
   "metadata": {},
   "outputs": [],
   "source": [
    "# Linear regression is applied for heating load\n",
    "model = linear_model.LinearRegression()\n",
    "model.fit(X_train_pca_data_scaled, y_train_pca_data)\n",
    "train_error = metrics.mean_squared_error(y_train_pca_data, model.predict(X_train_pca_data_scaled))\n",
    "test_error = metrics.mean_squared_error(y_test_pca_data, model.predict(X_test_pca_data_scaled))\n",
    "R2_test = model.score(X_test_pca_data_scaled, y_test_pca_data)\n",
    "R2_train = model.score(X_train_pca_data_scaled, y_train_pca_data)"
   ]
  },
  {
   "cell_type": "code",
   "execution_count": 16,
   "id": "05735f6d",
   "metadata": {},
   "outputs": [
    {
     "data": {
      "text/plain": [
       "0.9090109988048559"
      ]
     },
     "execution_count": 16,
     "metadata": {},
     "output_type": "execute_result"
    }
   ],
   "source": [
    "model.score(X_test_pca_data_scaled, y_test_pca_data)"
   ]
  },
  {
   "cell_type": "code",
   "execution_count": 17,
   "id": "5c7a7a49",
   "metadata": {},
   "outputs": [
    {
     "name": "stdout",
     "output_type": "stream",
     "text": [
      "8.12086834419994 9.582674497983565\n"
     ]
    }
   ],
   "source": [
    "print(train_error,test_error)"
   ]
  },
  {
   "cell_type": "code",
   "execution_count": 18,
   "id": "d8d3aa10",
   "metadata": {
    "scrolled": true
   },
   "outputs": [
    {
     "name": "stdout",
     "output_type": "stream",
     "text": [
      "0.9187194988023781 0.9090109988048559\n"
     ]
    }
   ],
   "source": [
    "print(R2_train, R2_test)"
   ]
  },
  {
   "cell_type": "code",
   "execution_count": 19,
   "id": "aa2faf06",
   "metadata": {},
   "outputs": [],
   "source": [
    "# Scaling for cooling load (discrete variables are not scaled)\n",
    "X_train_pca_data, X_test_pca_data, y_train_pca_data, y_test_pca_data = train_test_split(pca_data.drop(columns=['heating_load','cooling_load']), pca_data['cooling_load'], test_size=0.3, random_state=15)\n",
    "cont_scale_X_train_pca_data = X_train_pca_data.drop(columns=[\"orientation\",\"glazing_area_dist\"])\n",
    "scaler = StandardScaler()\n",
    "scaled_cont_X_train_pca_data = scaler.fit_transform(cont_scale_X_train_pca_data)\n",
    "cont_scale_X_test_pca_data = X_test_pca_data.drop(columns=[\"orientation\",\"glazing_area_dist\"])\n",
    "scaled_cont_X_test_pca_data = scaler.transform(cont_scale_X_test_pca_data)\n",
    "X_test_pca_data_no_cont = X_test_pca_data[[\"orientation\",\"glazing_area_dist\"]]\n",
    "X_test_pca_data_scaled = pd.concat([X_test_pca_data_no_cont, pd.DataFrame(scaled_cont_X_test_pca_data, columns = ['relative_compactness', 'surface_area', 'wall_area', 'roof_area', 'overall_height', 'glazing_area'], index=X_test_pca_data_no_cont.index)], axis=1)\n",
    "X_train_pca_data_no_cont = X_train_pca_data[[\"orientation\",\"glazing_area_dist\"]]\n",
    "X_train_pca_data_scaled = pd.concat([X_train_pca_data_no_cont, pd.DataFrame(scaled_cont_X_train_pca_data, columns = ['relative_compactness', 'surface_area', 'wall_area', 'roof_area', 'overall_height', 'glazing_area'], index=X_train_pca_data_no_cont.index )], axis=1)"
   ]
  },
  {
   "cell_type": "code",
   "execution_count": 20,
   "id": "bfa803bd",
   "metadata": {},
   "outputs": [],
   "source": [
    "# Linear regression is applied for cooling load\n",
    "model = linear_model.LinearRegression()\n",
    "model.fit(X_train_pca_data_scaled, y_train_pca_data)\n",
    "train_error = metrics.mean_squared_error(y_train_pca_data, model.predict(X_train_pca_data_scaled))\n",
    "test_error = metrics.mean_squared_error(y_test_pca_data, model.predict(X_test_pca_data_scaled))\n",
    "R2_test = model.score(X_test_pca_data_scaled, y_test_pca_data)\n",
    "R2_train = model.score(X_train_pca_data_scaled, y_train_pca_data)"
   ]
  },
  {
   "cell_type": "code",
   "execution_count": 21,
   "id": "ebe3a108",
   "metadata": {},
   "outputs": [
    {
     "name": "stdout",
     "output_type": "stream",
     "text": [
      "8.877658891089546 13.398611011317483\n"
     ]
    }
   ],
   "source": [
    "print(train_error,test_error)"
   ]
  },
  {
   "cell_type": "code",
   "execution_count": 22,
   "id": "56553d27",
   "metadata": {},
   "outputs": [
    {
     "name": "stdout",
     "output_type": "stream",
     "text": [
      "0.897165568253574 0.8647879993454215\n"
     ]
    }
   ],
   "source": [
    "print(R2_train, R2_test)"
   ]
  },
  {
   "cell_type": "markdown",
   "id": "8e9fcf1a",
   "metadata": {},
   "source": [
    "Random Forest Regression is used below."
   ]
  },
  {
   "cell_type": "code",
   "execution_count": 23,
   "id": "d8cc1aa2",
   "metadata": {},
   "outputs": [],
   "source": [
    "X_train_heating, X_test_heating, y_train_heating, y_test_heating = train_test_split(X, y1, test_size = 0.3, random_state = 0)"
   ]
  },
  {
   "cell_type": "code",
   "execution_count": 24,
   "id": "a379cb7c",
   "metadata": {},
   "outputs": [],
   "source": [
    "X_train_cooling, X_test_cooling, y_train_cooling, y_test_cooling = train_test_split(X, y2, test_size = 0.3, random_state = 0)"
   ]
  },
  {
   "cell_type": "code",
   "execution_count": 25,
   "id": "09b2a9c2",
   "metadata": {},
   "outputs": [],
   "source": [
    "rf_params = {'max_depth': list(range(1,10)),\n",
    "            'max_features': [.25,.50,.75],\n",
    "            'n_estimators' : [100, 200, 500, 1000, 2000]}"
   ]
  },
  {
   "cell_type": "code",
   "execution_count": 26,
   "id": "8b3b53eb",
   "metadata": {},
   "outputs": [
    {
     "data": {
      "text/plain": [
       "GridSearchCV(cv=10, estimator=RandomForestRegressor(n_jobs=-1, random_state=15),\n",
       "             n_jobs=-1,\n",
       "             param_grid={'max_depth': [1, 2, 3, 4, 5, 6, 7, 8, 9],\n",
       "                         'max_features': [0.25, 0.5, 0.75],\n",
       "                         'n_estimators': [100, 200, 500, 1000, 2000]})"
      ]
     },
     "execution_count": 26,
     "metadata": {},
     "output_type": "execute_result"
    }
   ],
   "source": [
    "rf_model = RandomForestRegressor(random_state = 15, bootstrap= True, n_jobs=-1)\n",
    "rf_cv_model_heating = GridSearchCV(rf_model, \n",
    "                           rf_params, \n",
    "                           cv = 10, \n",
    "                            n_jobs = -1)\n",
    "rf_cv_model_heating.fit(X_train_heating, y_train_heating)"
   ]
  },
  {
   "cell_type": "code",
   "execution_count": 27,
   "id": "8085fba3",
   "metadata": {},
   "outputs": [
    {
     "data": {
      "text/plain": [
       "{'max_depth': 9, 'max_features': 0.75, 'n_estimators': 200}"
      ]
     },
     "execution_count": 27,
     "metadata": {},
     "output_type": "execute_result"
    }
   ],
   "source": [
    "rf_cv_model_heating.best_params_"
   ]
  },
  {
   "cell_type": "code",
   "execution_count": 28,
   "id": "fc3c0fc6",
   "metadata": {},
   "outputs": [
    {
     "data": {
      "text/plain": [
       "RandomForestRegressor(max_depth=9, max_features=0.75, n_estimators=200,\n",
       "                      n_jobs=-1, random_state=15)"
      ]
     },
     "execution_count": 28,
     "metadata": {},
     "output_type": "execute_result"
    }
   ],
   "source": [
    "rf_model_heating = RandomForestRegressor(random_state = 15, bootstrap= True, n_jobs=-1, **rf_cv_model_heating.best_params_)\n",
    "rf_model_heating.fit(X_train_heating, y_train_heating)"
   ]
  },
  {
   "cell_type": "code",
   "execution_count": 29,
   "id": "30beef94",
   "metadata": {},
   "outputs": [
    {
     "data": {
      "text/plain": [
       "RandomForestRegressor(max_depth=9, max_features=0.25, n_estimators=200,\n",
       "                      n_jobs=-1, random_state=15)"
      ]
     },
     "execution_count": 29,
     "metadata": {},
     "output_type": "execute_result"
    }
   ],
   "source": [
    "rf_cv_model_cooling = GridSearchCV(rf_model, \n",
    "                           rf_params, \n",
    "                           cv = 10, \n",
    "                            n_jobs = -1)\n",
    "rf_cv_model_cooling.fit(X_train_cooling, y_train_cooling)\n",
    "rf_model_cooling = RandomForestRegressor(random_state = 15, bootstrap= True, n_jobs=-1, **rf_cv_model_cooling.best_params_)\n",
    "rf_model_cooling.fit(X_train_cooling, y_train_cooling)"
   ]
  },
  {
   "cell_type": "code",
   "execution_count": 30,
   "id": "6ed18861",
   "metadata": {},
   "outputs": [],
   "source": [
    "def evaluation(model, xTrain, xTest, yTrain, yTest) -> None:\n",
    "    print(f\"Train rmse: {mean_squared_error(yTrain, model.predict(xTrain))}\")\n",
    "    print(f\"Test rmse: {mean_squared_error(yTest, model.predict(xTest))}\")\n",
    "    print(f\"Train R^2: {r2_score(yTrain, model.predict(xTrain))}\")\n",
    "    print(f\"Test R^2: {r2_score(yTest, model.predict(xTest))}\")"
   ]
  },
  {
   "cell_type": "code",
   "execution_count": 31,
   "id": "a27fccaa",
   "metadata": {},
   "outputs": [
    {
     "name": "stdout",
     "output_type": "stream",
     "text": [
      "Train rmse: 0.05889352060932209\n",
      "Test rmse: 0.2777497718498712\n",
      "Train R^2: 0.9994121230350459\n",
      "Test R^2: 0.9973579542041964\n"
     ]
    }
   ],
   "source": [
    "evaluation(rf_cv_model_heating, X_train_heating, X_test_heating, y_train_heating, y_test_heating)"
   ]
  },
  {
   "cell_type": "code",
   "execution_count": 32,
   "id": "579674f2",
   "metadata": {},
   "outputs": [
    {
     "name": "stdout",
     "output_type": "stream",
     "text": [
      "Train rmse: 0.8747838404344381\n",
      "Test rmse: 2.6418233806730407\n",
      "Train R^2: 0.9903237253075843\n",
      "Test R^2: 0.9707111556184268\n"
     ]
    }
   ],
   "source": [
    "evaluation(rf_cv_model_cooling, X_train_cooling, X_test_cooling, y_train_cooling, y_test_cooling)"
   ]
  }
 ],
 "metadata": {
  "kernelspec": {
   "display_name": "Python 3",
   "language": "python",
   "name": "python3"
  },
  "language_info": {
   "codemirror_mode": {
    "name": "ipython",
    "version": 3
   },
   "file_extension": ".py",
   "mimetype": "text/x-python",
   "name": "python",
   "nbconvert_exporter": "python",
   "pygments_lexer": "ipython3",
   "version": "3.8.8"
  }
 },
 "nbformat": 4,
 "nbformat_minor": 5
}
